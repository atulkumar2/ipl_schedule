{
 "cells": [
  {
   "cell_type": "code",
   "execution_count": 1,
   "metadata": {},
   "outputs": [],
   "source": [
    "import pandas as pd\n",
    "import pytz\n",
    "import datetime\n",
    "import os"
   ]
  },
  {
   "cell_type": "code",
   "execution_count": 2,
   "metadata": {},
   "outputs": [],
   "source": [
    "# Get tables for individual timezones\n",
    "ipl_schedule = pd.read_csv(\"data/ipl_schedule.csv\", index_col=0)\n",
    "\n",
    "dt_objs = []\n",
    "for i in range(1, len(ipl_schedule)+1) : \n",
    "    dt_str = ipl_schedule.loc[i, \"Date\"] + \" \" + ipl_schedule.loc[i, \"Time\"]\n",
    "    if ipl_schedule.loc[i, \"Date\"] == \"TBD\":\n",
    "        dt_objs.append(None)   \n",
    "    else:\n",
    "        dt_objs.append(pytz.timezone('Asia/Kolkata').localize(datetime.datetime.strptime(dt_str, '%d %B %Y %I:%M %p')))\n",
    "        \n",
    "for tz in pytz.all_timezones:\n",
    "    ipl_schedule_new = ipl_schedule.copy()\n",
    "    for i in range(1, len(ipl_schedule_new)+1):\n",
    "        if ipl_schedule_new.loc[i, \"Date\"] != \"TBD\":\n",
    "            dt_obj_new = dt_objs[i-1].astimezone(pytz.timezone(tz))\n",
    "            ipl_schedule_new.loc[i, \"Date\"] = dt_obj_new.strftime(\"%d %b %Y\")\n",
    "            ipl_schedule_new.loc[i, \"Week Day\"] = dt_obj_new.strftime(\"%A\")\n",
    "            ipl_schedule_new.loc[i, \"Time\"] = dt_obj_new.strftime(\"%I:%M %p\")\n",
    "\n",
    "    if \"/\" in tz:\n",
    "        continent = tz.split(\"/\")[0]\n",
    "        if not os.path.exists(\"data/\"+continent):\n",
    "            os.mkdir(\"data/\"+continent)\n",
    "        ipl_schedule_new.to_csv(\"data/{0}/ipl_schedule_{1}.csv\".format(continent, tz.replace(\"/\",\"_\")))\n",
    "    else:\n",
    "        ipl_schedule_new.to_csv(\"data/ipl_schedule_{0}.csv\".format(tz.replace(\"/\",\"_\")))"
   ]
  },
  {
   "cell_type": "code",
   "execution_count": 3,
   "metadata": {},
   "outputs": [],
   "source": [
    "# Get data for all timezones in one document\n",
    "\n",
    "ipl_schedule = pd.read_csv(\"data/ipl_schedule.csv\", index_col=0)\n",
    "\n",
    "for tz in pytz.all_timezones:\n",
    "    new_tz_data=[]\n",
    "    for i in range(1, len(ipl_schedule)+1) : \n",
    "        dt_str = ipl_schedule.loc[i, \"Date\"] + \" \" + ipl_schedule.loc[i, \"Time\"]\n",
    "        if ipl_schedule.loc[i, \"Date\"] == \"TBD\":\n",
    "            new_tz_data.append(dt_str)\n",
    "        else:\n",
    "            dt_obj = datetime.datetime.strptime(dt_str, '%d %B %Y %I:%M %p')\n",
    "            dt_obj_in = pytz.timezone('Asia/Kolkata').localize(dt_obj)\n",
    "            dt_obj_new = dt_obj_in.astimezone(pytz.timezone(tz))\n",
    "            dt_str_new = dt_obj_new.strftime(\"%a %d-%b %I:%M %p\")\n",
    "            new_tz_data.append(dt_str_new)\n",
    "\n",
    "    ipl_schedule[tz] =  new_tz_data\n",
    "    \n",
    "ipl_schedule.to_csv(\"data/ipl_schedule_all_timezones.csv\")"
   ]
  },
  {
   "cell_type": "code",
   "execution_count": null,
   "metadata": {},
   "outputs": [],
   "source": []
  }
 ],
 "metadata": {
  "kernelspec": {
   "display_name": "Python 3",
   "language": "python",
   "name": "python3"
  },
  "language_info": {
   "codemirror_mode": {
    "name": "ipython",
    "version": 3
   },
   "file_extension": ".py",
   "mimetype": "text/x-python",
   "name": "python",
   "nbconvert_exporter": "python",
   "pygments_lexer": "ipython3",
   "version": "3.7.6"
  }
 },
 "nbformat": 4,
 "nbformat_minor": 4
}
