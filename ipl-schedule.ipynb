{
 "cells": [
  {
   "cell_type": "code",
   "execution_count": 36,
   "metadata": {},
   "outputs": [],
   "source": [
    "import pandas as pd\n",
    "import pytz\n",
    "import datetime"
   ]
  },
  {
   "cell_type": "code",
   "execution_count": 37,
   "metadata": {},
   "outputs": [],
   "source": [
    "ipl_schedule = pd.read_csv(\"ipl_schedule.csv\", index_col=0)\n",
    "\n",
    "for tz in pytz.all_timezones:\n",
    "    new_tz_data=[]\n",
    "    for i in range(1, len(ipl_schedule)+1) : \n",
    "        dt_str = ipl_schedule.loc[i, \"Date\"] + \" \" + ipl_schedule.loc[i, \"Time\"]\n",
    "        if ipl_schedule.loc[i, \"Date\"] == \"TBD\":\n",
    "            new_tz_data.append(dt_str)\n",
    "        else:\n",
    "            dt_obj = datetime.datetime.strptime(dt_str, '%d %B %Y %I:%M %p')\n",
    "            dt_obj_in = pytz.timezone('Asia/Kolkata').localize(dt_obj)\n",
    "            dt_obj_new = dt_obj_in.astimezone(pytz.timezone(tz))\n",
    "            dt_str_new = dt_obj_new.strftime(\"%a %d-%b %I:%M %p\")\n",
    "            new_tz_data.append(dt_str_new)\n",
    "\n",
    "    ipl_schedule[tz] =  new_tz_data\n",
    "    \n",
    "ipl_schedule.to_csv(\"ipl_schedule_all_timezones.csv\")"
   ]
  },
  {
   "cell_type": "code",
   "execution_count": null,
   "metadata": {},
   "outputs": [],
   "source": []
  }
 ],
 "metadata": {
  "kernelspec": {
   "display_name": "Python 3",
   "language": "python",
   "name": "python3"
  },
  "language_info": {
   "codemirror_mode": {
    "name": "ipython",
    "version": 3
   },
   "file_extension": ".py",
   "mimetype": "text/x-python",
   "name": "python",
   "nbconvert_exporter": "python",
   "pygments_lexer": "ipython3",
   "version": "3.7.6"
  }
 },
 "nbformat": 4,
 "nbformat_minor": 4
}
